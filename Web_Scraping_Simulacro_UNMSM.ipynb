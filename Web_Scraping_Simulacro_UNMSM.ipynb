{
 "cells": [
  {
   "cell_type": "markdown",
   "id": "57869736-6956-444e-b4ec-3acbdb40ee59",
   "metadata": {},
   "source": [
    "# Extracción de Notas del Simulacro de la UNMSM"
   ]
  },
  {
   "cell_type": "markdown",
   "id": "f19ce330-ec2e-4058-a020-3cd79c3883ed",
   "metadata": {},
   "source": [
    "## Extracción de URLs"
   ]
  },
  {
   "cell_type": "markdown",
   "id": "a8949818-fbf6-4653-9ffb-18843462360a",
   "metadata": {},
   "source": [
    "### Importar Librerías"
   ]
  },
  {
   "cell_type": "code",
   "execution_count": 1,
   "id": "87693c28-66e4-414e-a6a2-b31a8a2be405",
   "metadata": {},
   "outputs": [],
   "source": [
    "from selenium import webdriver\n",
    "from selenium.webdriver.common.by import By\n",
    "from selenium.common.exceptions import NoSuchElementException\n",
    "import pandas as pd\n",
    "import time"
   ]
  },
  {
   "cell_type": "markdown",
   "id": "37e3d111-378d-4647-afbf-cec347929d5b",
   "metadata": {},
   "source": [
    "### Iniciar Microsoft Edge"
   ]
  },
  {
   "cell_type": "code",
   "execution_count": 2,
   "id": "b005d517-d184-4169-84af-eee32bb87f09",
   "metadata": {},
   "outputs": [],
   "source": [
    "driver = webdriver.Edge()"
   ]
  },
  {
   "cell_type": "markdown",
   "id": "f44173a0-c22e-4a95-a4a3-69e17b906397",
   "metadata": {},
   "source": [
    "### Ingreso a la página del simulacro de la UNMSM"
   ]
  },
  {
   "cell_type": "code",
   "execution_count": 3,
   "id": "dcfa45bd-aaaf-4110-a786-53e3ff6a9399",
   "metadata": {},
   "outputs": [],
   "source": [
    "web_site = \"https://admision.unmsm.edu.pe/WebsiteSimulacro20251/1.html\"\n",
    "driver.get(web_site)"
   ]
  },
  {
   "cell_type": "code",
   "execution_count": 4,
   "id": "42d5bc05-e8f4-4a1c-bb42-b76691aa0a94",
   "metadata": {},
   "outputs": [],
   "source": [
    "escuelas = driver.find_elements(By.CSS_SELECTOR, 'tbody tr')"
   ]
  },
  {
   "cell_type": "markdown",
   "id": "5c930b64-f2df-472d-aba5-ecaeea32f935",
   "metadata": {},
   "source": [
    "### Encontrar todos los elementos\n",
    "* `driver`: Es el objeto de Selenium que controla el navegador web. A través de él, realizas todas las operaciones de automatización en la página web.\n",
    "\n",
    "* `find_elements`: Es un método de Selenium que busca y devuelve una lista de todos los elementos que coinciden con el selector proporcionado. A diferencia de find_element, que devuelve solo el primer elemento encontrado, find_elements devuelve una lista con todos los elementos que coinciden.\n",
    "\n",
    "* `By.CSS_SELECTOR`: Es un método para localizar elementos en el DOM (Document Object Model) usando selectores CSS. Los selectores CSS son una forma muy flexible y potente de seleccionar elementos en una página web.\n",
    "\n",
    "* 'tbody tr': Este es el selector CSS utilizado para encontrar los elementos.\n",
    "    * tbody selecciona el cuerpo de una tabla HTML, que es el contenedor de las filas.\n",
    "    * tr selecciona las filas dentro del tbody.\n",
    "\n",
    "![Página Principal](Imagenes/primero.png)"
   ]
  },
  {
   "cell_type": "code",
   "execution_count": 5,
   "id": "e96ebcba-f491-4419-a2cc-51f8b15d32d3",
   "metadata": {},
   "outputs": [],
   "source": [
    "# Creacion de lista para guardar los URLs\n",
    "Escuelas_Profesionales = []"
   ]
  },
  {
   "cell_type": "markdown",
   "id": "d3120252-0c46-4bca-9290-b0563a174f85",
   "metadata": {},
   "source": [
    "### Iteración por escuela.\n",
    "* Encontrar un enlace (`<a>`) dentro del elemento.\n",
    "* Utilizamos `By.TAG_NAME` para encontrar el `<a>`.\n",
    "* Extraer la URL del enlace (`href`) y el texto visible del enlace.\n",
    "* Guardamos la información en un diccionario en una lista, para tenerlo en un formato JSON.\n",
    "  \n",
    "![Página Principal](Imagenes/segundo.png)"
   ]
  },
  {
   "cell_type": "code",
   "execution_count": 6,
   "id": "952459d3-ba2b-4ce2-8458-9d50ac5fc71d",
   "metadata": {},
   "outputs": [],
   "source": [
    "for escuela in escuelas:\n",
    "    try:\n",
    "        url = escuela.find_element(By.TAG_NAME, 'a').get_attribute('href')\n",
    "        ep = escuela.find_element(By.TAG_NAME, 'a').text\n",
    "        codigo = url.replace(\"https://admision.unmsm.edu.pe/WebsiteSimulacro20251/1/\", \"\")\n",
    "        codigo = codigo.replace(\"/0.html\", \"\")\n",
    "        Escuelas_Profesionales.append({\n",
    "            'Codigo Ep': codigo,\n",
    "            'Escuela': ep,\n",
    "            'URL': url\n",
    "        })\n",
    "    except NoSuchElementException:\n",
    "        print(\"Enlace no encontrado en una de las filas.\")"
   ]
  },
  {
   "cell_type": "code",
   "execution_count": 7,
   "id": "78484d17-f371-42e5-9649-0b3049b2af40",
   "metadata": {
    "scrolled": true
   },
   "outputs": [
    {
     "data": {
      "text/plain": [
       "[{'Codigo Ep': '091',\n",
       "  'Escuela': 'ADMINISTRACIÓN',\n",
       "  'URL': 'https://admision.unmsm.edu.pe/WebsiteSimulacro20251/1/091/0.html'},\n",
       " {'Codigo Ep': '094',\n",
       "  'Escuela': 'ADMINISTRACIÓN DE LA GASTRONOMÍA',\n",
       "  'URL': 'https://admision.unmsm.edu.pe/WebsiteSimulacro20251/1/094/0.html'},\n",
       " {'Codigo Ep': '093',\n",
       "  'Escuela': 'ADMINISTRACIÓN DE NEGOCIOS INTERNACIONALES',\n",
       "  'URL': 'https://admision.unmsm.edu.pe/WebsiteSimulacro20251/1/093/0.html'},\n",
       " {'Codigo Ep': '092',\n",
       "  'Escuela': 'ADMINISTRACIÓN DE TURISMO',\n",
       "  'URL': 'https://admision.unmsm.edu.pe/WebsiteSimulacro20251/1/092/0.html'},\n",
       " {'Codigo Ep': '095',\n",
       "  'Escuela': 'ADMINISTRACIÓN MARÍTIMA Y PORTUARIA',\n",
       "  'URL': 'https://admision.unmsm.edu.pe/WebsiteSimulacro20251/1/095/0.html'},\n",
       " {'Codigo Ep': '153',\n",
       "  'Escuela': 'ANTROPOLOGÍA',\n",
       "  'URL': 'https://admision.unmsm.edu.pe/WebsiteSimulacro20251/1/153/0.html'},\n",
       " {'Codigo Ep': '154',\n",
       "  'Escuela': 'ARQUEOLOGÍA',\n",
       "  'URL': 'https://admision.unmsm.edu.pe/WebsiteSimulacro20251/1/154/0.html'},\n",
       " {'Codigo Ep': '169',\n",
       "  'Escuela': 'ARQUITECTURA Y URBANISMO',\n",
       "  'URL': 'https://admision.unmsm.edu.pe/WebsiteSimulacro20251/1/169/0.html'},\n",
       " {'Codigo Ep': '036',\n",
       "  'Escuela': 'ARTE',\n",
       "  'URL': 'https://admision.unmsm.edu.pe/WebsiteSimulacro20251/1/036/0.html'},\n",
       " {'Codigo Ep': '113',\n",
       "  'Escuela': 'AUDITORÍA EMPRESARIAL Y DEL SECTOR PÚBLICO',\n",
       "  'URL': 'https://admision.unmsm.edu.pe/WebsiteSimulacro20251/1/113/0.html'},\n",
       " {'Codigo Ep': '037',\n",
       "  'Escuela': 'BIBLIOTECOLOGÍA Y CIENCIAS DE LA INFORMACIÓN',\n",
       "  'URL': 'https://admision.unmsm.edu.pe/WebsiteSimulacro20251/1/037/0.html'},\n",
       " {'Codigo Ep': '023',\n",
       "  'Escuela': 'CIENCIA POLÍTICA',\n",
       "  'URL': 'https://admision.unmsm.edu.pe/WebsiteSimulacro20251/1/023/0.html'},\n",
       " {'Codigo Ep': '101',\n",
       "  'Escuela': 'CIENCIAS BIOLÓGICAS',\n",
       "  'URL': 'https://admision.unmsm.edu.pe/WebsiteSimulacro20251/1/101/0.html'},\n",
       " {'Codigo Ep': '203',\n",
       "  'Escuela': 'CIENCIAS DE LA COMPUTACIÓN',\n",
       "  'URL': 'https://admision.unmsm.edu.pe/WebsiteSimulacro20251/1/203/0.html'},\n",
       " {'Codigo Ep': '042',\n",
       "  'Escuela': 'CIENCIAS DE LOS ALIMENTOS',\n",
       "  'URL': 'https://admision.unmsm.edu.pe/WebsiteSimulacro20251/1/042/0.html'},\n",
       " {'Codigo Ep': '145',\n",
       "  'Escuela': 'COMPUTACIÓN CIENTÍFICA',\n",
       "  'URL': 'https://admision.unmsm.edu.pe/WebsiteSimulacro20251/1/145/0.html'},\n",
       " {'Codigo Ep': '035',\n",
       "  'Escuela': 'COMUNICACIÓN SOCIAL',\n",
       "  'URL': 'https://admision.unmsm.edu.pe/WebsiteSimulacro20251/1/035/0.html'},\n",
       " {'Codigo Ep': '039',\n",
       "  'Escuela': 'CONSERVACIÓN Y RESTAURACIÓN',\n",
       "  'URL': 'https://admision.unmsm.edu.pe/WebsiteSimulacro20251/1/039/0.html'},\n",
       " {'Codigo Ep': '111',\n",
       "  'Escuela': 'CONTABILIDAD',\n",
       "  'URL': 'https://admision.unmsm.edu.pe/WebsiteSimulacro20251/1/111/0.html'},\n",
       " {'Codigo Ep': '038',\n",
       "  'Escuela': 'DANZA',\n",
       "  'URL': 'https://admision.unmsm.edu.pe/WebsiteSimulacro20251/1/038/0.html'},\n",
       " {'Codigo Ep': '022',\n",
       "  'Escuela': 'DERECHO',\n",
       "  'URL': 'https://admision.unmsm.edu.pe/WebsiteSimulacro20251/1/022/0.html'},\n",
       " {'Codigo Ep': '121',\n",
       "  'Escuela': 'ECONOMÍA',\n",
       "  'URL': 'https://admision.unmsm.edu.pe/WebsiteSimulacro20251/1/121/0.html'},\n",
       " {'Codigo Ep': '123',\n",
       "  'Escuela': 'ECONOMÍA INTERNACIONAL',\n",
       "  'URL': 'https://admision.unmsm.edu.pe/WebsiteSimulacro20251/1/123/0.html'},\n",
       " {'Codigo Ep': '122',\n",
       "  'Escuela': 'ECONOMÍA PÚBLICA',\n",
       "  'URL': 'https://admision.unmsm.edu.pe/WebsiteSimulacro20251/1/122/0.html'},\n",
       " {'Codigo Ep': '062',\n",
       "  'Escuela': 'EDUCACIÓN FÍSICA',\n",
       "  'URL': 'https://admision.unmsm.edu.pe/WebsiteSimulacro20251/1/062/0.html'},\n",
       " {'Codigo Ep': '0611',\n",
       "  'Escuela': 'EDUCACIÓN INICIAL',\n",
       "  'URL': 'https://admision.unmsm.edu.pe/WebsiteSimulacro20251/1/0611/0.html'},\n",
       " {'Codigo Ep': '0612',\n",
       "  'Escuela': 'EDUCACIÓN PRIMARIA',\n",
       "  'URL': 'https://admision.unmsm.edu.pe/WebsiteSimulacro20251/1/0612/0.html'},\n",
       " {'Codigo Ep': '0613',\n",
       "  'Escuela': 'EDUCACIÓN SECUNDARIA',\n",
       "  'URL': 'https://admision.unmsm.edu.pe/WebsiteSimulacro20251/1/0613/0.html'},\n",
       " {'Codigo Ep': '013',\n",
       "  'Escuela': 'ENFERMERÍA',\n",
       "  'URL': 'https://admision.unmsm.edu.pe/WebsiteSimulacro20251/1/013/0.html'},\n",
       " {'Codigo Ep': '142',\n",
       "  'Escuela': 'ESTADÍSTICA',\n",
       "  'URL': 'https://admision.unmsm.edu.pe/WebsiteSimulacro20251/1/142/0.html'},\n",
       " {'Codigo Ep': '041',\n",
       "  'Escuela': 'FARMACIA Y BIOQUÍMICA',\n",
       "  'URL': 'https://admision.unmsm.edu.pe/WebsiteSimulacro20251/1/041/0.html'},\n",
       " {'Codigo Ep': '033',\n",
       "  'Escuela': 'FILOSOFÍA',\n",
       "  'URL': 'https://admision.unmsm.edu.pe/WebsiteSimulacro20251/1/033/0.html'},\n",
       " {'Codigo Ep': '131',\n",
       "  'Escuela': 'FÍSICA',\n",
       "  'URL': 'https://admision.unmsm.edu.pe/WebsiteSimulacro20251/1/131/0.html'},\n",
       " {'Codigo Ep': '102',\n",
       "  'Escuela': 'GENÉTICA Y BIOTECNOLOGÍA',\n",
       "  'URL': 'https://admision.unmsm.edu.pe/WebsiteSimulacro20251/1/102/0.html'},\n",
       " {'Codigo Ep': '157',\n",
       "  'Escuela': 'GEOGRAFÍA',\n",
       "  'URL': 'https://admision.unmsm.edu.pe/WebsiteSimulacro20251/1/157/0.html'},\n",
       " {'Codigo Ep': '112',\n",
       "  'Escuela': 'GESTIÓN TRIBUTARIA',\n",
       "  'URL': 'https://admision.unmsm.edu.pe/WebsiteSimulacro20251/1/112/0.html'},\n",
       " {'Codigo Ep': '151',\n",
       "  'Escuela': 'HISTORIA',\n",
       "  'URL': 'https://admision.unmsm.edu.pe/WebsiteSimulacro20251/1/151/0.html'},\n",
       " {'Codigo Ep': '073',\n",
       "  'Escuela': 'INGENIERÍA AGROINDUSTRIAL',\n",
       "  'URL': 'https://admision.unmsm.edu.pe/WebsiteSimulacro20251/1/073/0.html'},\n",
       " {'Codigo Ep': '168',\n",
       "  'Escuela': 'INGENIERÍA AMBIENTAL',\n",
       "  'URL': 'https://admision.unmsm.edu.pe/WebsiteSimulacro20251/1/168/0.html'},\n",
       " {'Codigo Ep': '194',\n",
       "  'Escuela': 'INGENIERÍA BIOMÉDICA',\n",
       "  'URL': 'https://admision.unmsm.edu.pe/WebsiteSimulacro20251/1/194/0.html'},\n",
       " {'Codigo Ep': '167',\n",
       "  'Escuela': 'INGENIERÍA CIVIL',\n",
       "  'URL': 'https://admision.unmsm.edu.pe/WebsiteSimulacro20251/1/167/0.html'},\n",
       " {'Codigo Ep': '165',\n",
       "  'Escuela': 'INGENIERÍA DE MINAS',\n",
       "  'URL': 'https://admision.unmsm.edu.pe/WebsiteSimulacro20251/1/165/0.html'},\n",
       " {'Codigo Ep': '173',\n",
       "  'Escuela': 'INGENIERÍA DE SEGURIDAD Y SALUD EN EL TRABAJO',\n",
       "  'URL': 'https://admision.unmsm.edu.pe/WebsiteSimulacro20251/1/173/0.html'},\n",
       " {'Codigo Ep': '201',\n",
       "  'Escuela': 'INGENIERÍA DE SISTEMAS',\n",
       "  'URL': 'https://admision.unmsm.edu.pe/WebsiteSimulacro20251/1/201/0.html'},\n",
       " {'Codigo Ep': '202',\n",
       "  'Escuela': 'INGENIERÍA DE SOFTWARE',\n",
       "  'URL': 'https://admision.unmsm.edu.pe/WebsiteSimulacro20251/1/202/0.html'},\n",
       " {'Codigo Ep': '193',\n",
       "  'Escuela': 'INGENIERÍA DE TELECOMUNICACIONES',\n",
       "  'URL': 'https://admision.unmsm.edu.pe/WebsiteSimulacro20251/1/193/0.html'},\n",
       " {'Codigo Ep': '192',\n",
       "  'Escuela': 'INGENIERÍA ELÉCTRICA',\n",
       "  'URL': 'https://admision.unmsm.edu.pe/WebsiteSimulacro20251/1/192/0.html'},\n",
       " {'Codigo Ep': '191',\n",
       "  'Escuela': 'INGENIERÍA ELECTRÓNICA',\n",
       "  'URL': 'https://admision.unmsm.edu.pe/WebsiteSimulacro20251/1/191/0.html'},\n",
       " {'Codigo Ep': '163',\n",
       "  'Escuela': 'INGENIERÍA GEOGRÁFICA',\n",
       "  'URL': 'https://admision.unmsm.edu.pe/WebsiteSimulacro20251/1/163/0.html'},\n",
       " {'Codigo Ep': '162',\n",
       "  'Escuela': 'INGENIERÍA GEOLÓGICA',\n",
       "  'URL': 'https://admision.unmsm.edu.pe/WebsiteSimulacro20251/1/162/0.html'},\n",
       " {'Codigo Ep': '171',\n",
       "  'Escuela': 'INGENIERÍA INDUSTRIAL',\n",
       "  'URL': 'https://admision.unmsm.edu.pe/WebsiteSimulacro20251/1/171/0.html'},\n",
       " {'Codigo Ep': '132',\n",
       "  'Escuela': 'INGENIERÍA MECÁNICA DE FLUIDOS',\n",
       "  'URL': 'https://admision.unmsm.edu.pe/WebsiteSimulacro20251/1/132/0.html'},\n",
       " {'Codigo Ep': '166',\n",
       "  'Escuela': 'INGENIERÍA METALÚRGICA',\n",
       "  'URL': 'https://admision.unmsm.edu.pe/WebsiteSimulacro20251/1/166/0.html'},\n",
       " {'Codigo Ep': '072',\n",
       "  'Escuela': 'INGENIERÍA QUÍMICA',\n",
       "  'URL': 'https://admision.unmsm.edu.pe/WebsiteSimulacro20251/1/072/0.html'},\n",
       " {'Codigo Ep': '172',\n",
       "  'Escuela': 'INGENIERÍA TEXTIL Y CONFECCIONES',\n",
       "  'URL': 'https://admision.unmsm.edu.pe/WebsiteSimulacro20251/1/172/0.html'},\n",
       " {'Codigo Ep': '144',\n",
       "  'Escuela': 'INVESTIGACIÓN OPERATIVA',\n",
       "  'URL': 'https://admision.unmsm.edu.pe/WebsiteSimulacro20251/1/144/0.html'},\n",
       " {'Codigo Ep': '0310',\n",
       "  'Escuela': 'LENGUAS, TRADUCCIÓN E INTERPRETACIÓN',\n",
       "  'URL': 'https://admision.unmsm.edu.pe/WebsiteSimulacro20251/1/0310/0.html'},\n",
       " {'Codigo Ep': '034',\n",
       "  'Escuela': 'LINGUÍSTICA',\n",
       "  'URL': 'https://admision.unmsm.edu.pe/WebsiteSimulacro20251/1/034/0.html'},\n",
       " {'Codigo Ep': '031',\n",
       "  'Escuela': 'LITERATURA',\n",
       "  'URL': 'https://admision.unmsm.edu.pe/WebsiteSimulacro20251/1/031/0.html'},\n",
       " {'Codigo Ep': '096',\n",
       "  'Escuela': 'MARKETING',\n",
       "  'URL': 'https://admision.unmsm.edu.pe/WebsiteSimulacro20251/1/096/0.html'},\n",
       " {'Codigo Ep': '141',\n",
       "  'Escuela': 'MATEMÁTICA',\n",
       "  'URL': 'https://admision.unmsm.edu.pe/WebsiteSimulacro20251/1/141/0.html'},\n",
       " {'Codigo Ep': '011',\n",
       "  'Escuela': 'MEDICINA HUMANA',\n",
       "  'URL': 'https://admision.unmsm.edu.pe/WebsiteSimulacro20251/1/011/0.html'},\n",
       " {'Codigo Ep': '081',\n",
       "  'Escuela': 'MEDICINA VETERINARIA',\n",
       "  'URL': 'https://admision.unmsm.edu.pe/WebsiteSimulacro20251/1/081/0.html'},\n",
       " {'Codigo Ep': '103',\n",
       "  'Escuela': 'MICROBIOLOGÍA Y PARASITOLOGÍA',\n",
       "  'URL': 'https://admision.unmsm.edu.pe/WebsiteSimulacro20251/1/103/0.html'},\n",
       " {'Codigo Ep': '015',\n",
       "  'Escuela': 'NUTRICION',\n",
       "  'URL': 'https://admision.unmsm.edu.pe/WebsiteSimulacro20251/1/015/0.html'},\n",
       " {'Codigo Ep': '012',\n",
       "  'Escuela': 'OBSTETRICIA',\n",
       "  'URL': 'https://admision.unmsm.edu.pe/WebsiteSimulacro20251/1/012/0.html'},\n",
       " {'Codigo Ep': '051',\n",
       "  'Escuela': 'ODONTOLOGÍA',\n",
       "  'URL': 'https://admision.unmsm.edu.pe/WebsiteSimulacro20251/1/051/0.html'},\n",
       " {'Codigo Ep': '114',\n",
       "  'Escuela': 'PRESUPUESTO Y FINANZAS PÚBLICAS',\n",
       "  'URL': 'https://admision.unmsm.edu.pe/WebsiteSimulacro20251/1/114/0.html'},\n",
       " {'Codigo Ep': '181',\n",
       "  'Escuela': 'PSICOLOGÍA',\n",
       "  'URL': 'https://admision.unmsm.edu.pe/WebsiteSimulacro20251/1/181/0.html'},\n",
       " {'Codigo Ep': '182',\n",
       "  'Escuela': 'PSICOLOGÍA ORGANIZACIONAL Y DE LA GESTIÓN HUMANA',\n",
       "  'URL': 'https://admision.unmsm.edu.pe/WebsiteSimulacro20251/1/182/0.html'},\n",
       " {'Codigo Ep': '071',\n",
       "  'Escuela': 'QUÍMICA',\n",
       "  'URL': 'https://admision.unmsm.edu.pe/WebsiteSimulacro20251/1/071/0.html'},\n",
       " {'Codigo Ep': '152',\n",
       "  'Escuela': 'SOCIOLOGÍA',\n",
       "  'URL': 'https://admision.unmsm.edu.pe/WebsiteSimulacro20251/1/152/0.html'},\n",
       " {'Codigo Ep': '0141',\n",
       "  'Escuela': 'TEC. MED. LAB. CLÍNICO Y ANATOMÍA PATOLÓGICA',\n",
       "  'URL': 'https://admision.unmsm.edu.pe/WebsiteSimulacro20251/1/0141/0.html'},\n",
       " {'Codigo Ep': '0143',\n",
       "  'Escuela': 'TEC. MED. RADIOLOGÍA',\n",
       "  'URL': 'https://admision.unmsm.edu.pe/WebsiteSimulacro20251/1/0143/0.html'},\n",
       " {'Codigo Ep': '0142',\n",
       "  'Escuela': 'TEC. MED. TERAPIA FÍSICA Y REHABILITACIÓN',\n",
       "  'URL': 'https://admision.unmsm.edu.pe/WebsiteSimulacro20251/1/0142/0.html'},\n",
       " {'Codigo Ep': '0144',\n",
       "  'Escuela': 'TEC. MED. TERAPIA OCUPACIONAL',\n",
       "  'URL': 'https://admision.unmsm.edu.pe/WebsiteSimulacro20251/1/0144/0.html'},\n",
       " {'Codigo Ep': '043',\n",
       "  'Escuela': 'TOXICOLOGÍA',\n",
       "  'URL': 'https://admision.unmsm.edu.pe/WebsiteSimulacro20251/1/043/0.html'},\n",
       " {'Codigo Ep': '155',\n",
       "  'Escuela': 'TRABAJO SOCIAL',\n",
       "  'URL': 'https://admision.unmsm.edu.pe/WebsiteSimulacro20251/1/155/0.html'}]"
      ]
     },
     "execution_count": 7,
     "metadata": {},
     "output_type": "execute_result"
    }
   ],
   "source": [
    "Escuelas_Profesionales"
   ]
  },
  {
   "cell_type": "code",
   "execution_count": 8,
   "id": "575e7c05-7f99-42ad-9426-cbd49d73306d",
   "metadata": {},
   "outputs": [],
   "source": [
    "driver.quit()"
   ]
  },
  {
   "cell_type": "markdown",
   "id": "9e66ae48-a79e-465c-9575-add8af512e1e",
   "metadata": {},
   "source": [
    "## Extracción de Notas por Escuela"
   ]
  },
  {
   "cell_type": "code",
   "execution_count": 103,
   "id": "88cee8db-750a-4302-87b2-dfb5cf5c5c79",
   "metadata": {},
   "outputs": [],
   "source": [
    "data_estudiantes = []"
   ]
  },
  {
   "cell_type": "code",
   "execution_count": 94,
   "id": "4edb6998-723f-4a7e-a8c3-8e6c9bfa9f9b",
   "metadata": {},
   "outputs": [],
   "source": [
    "from selenium.webdriver.common.action_chains import ActionChains"
   ]
  },
  {
   "cell_type": "code",
   "execution_count": 98,
   "id": "705b9a91-4a4f-41f6-b545-817abe699c3c",
   "metadata": {
    "scrolled": true
   },
   "outputs": [],
   "source": [
    "def extraccion_data(link):\n",
    "    \"\"\"\n",
    "    Extrae datos de estudiantes de una tabla paginada en un sitio web.\n",
    "\n",
    "    Esta función navega a un enlace proporcionado, extrae información sobre los estudiantes\n",
    "    de una tabla paginada y la almacena en una lista global llamada `notas`. Recorre todas\n",
    "    las páginas de la tabla hasta que no hay más páginas disponibles.\n",
    "\n",
    "    Parámetros:\n",
    "    ----------\n",
    "    link : str\n",
    "        URL de la página web que contiene la tabla de estudiantes.\n",
    "\n",
    "    Comportamiento:\n",
    "    --------------\n",
    "    - Navega al enlace proporcionado y espera 3 segundos para asegurar que la página haya cargado.\n",
    "    - Encuentra todos los estudiantes en la página actual.\n",
    "    - Para cada estudiante, extrae la Escuela Profesional (columna 4) y la Nota (columna 5).\n",
    "    - Almacena la información extraída en una lista global `notas`.\n",
    "    - Continúa navegando a la siguiente página de la tabla hasta que ya no hay más páginas.\n",
    "    \n",
    "    Excepciones manejadas:\n",
    "    ---------------------\n",
    "    - NoSuchElementException: Ignora los estudiantes que no tienen la estructura esperada.\n",
    "\n",
    "    Nota:\n",
    "    -----\n",
    "    - La función utiliza la variable global `notas` para almacenar los resultados. Asegúrate de \n",
    "      que esta variable esté definida antes de llamar a la función.\n",
    "    \"\"\"\n",
    "    driver.get(link)\n",
    "    time.sleep(3)\n",
    "    ##Acciones para Ejecutar la pagina correctamente\n",
    "    \n",
    "    # Realiza un scroll hasta el final de la página\n",
    "    driver.execute_script(\"window.scrollTo(0, document.body.scrollHeight);\")\n",
    "    time.sleep(2)  # Espera un momento para que el contenido cargue\n",
    "\n",
    "    # Simula un clic en un punto de la página para activar los elementos\n",
    "    action = ActionChains(driver)\n",
    "    action.move_by_offset(10, 10).click().perform()\n",
    "    \n",
    "    time.sleep(1)\n",
    "    while True:\n",
    "        # Encuentra todos los estudiantes en la página actual\n",
    "        estudiantes = driver.find_elements(By.CSS_SELECTOR, '#tablaPostulantes tbody tr')\n",
    "        # Recorre los estudiantes y extrae la información\n",
    "        for i, estudiante in enumerate(estudiantes):\n",
    "            try:\n",
    "                ep = estudiante.find_element(By.CSS_SELECTOR, f'td:nth-child(4)')\n",
    "                nota = estudiante.find_element(By.CSS_SELECTOR, f'td:nth-child(5)')\n",
    "                data_estudiantes.append({\n",
    "                    'Escuela Profesional': ep.text,\n",
    "                    'Nota': nota.text\n",
    "                })\n",
    "            except NoSuchElementException:\n",
    "                pass\n",
    "        # Encuentra el botón de la siguiente página\n",
    "        next_button = driver.find_element(By.CSS_SELECTOR, '#tablaPostulantes_next > a')\n",
    "        alerta = driver.find_element(By.CSS_SELECTOR, '#tablaPostulantes_next')\n",
    "        \n",
    "        if 'disabled' in alerta.get_attribute('class'):\n",
    "            break\n",
    "        else:\n",
    "            next_button.click()"
   ]
  },
  {
   "cell_type": "markdown",
   "id": "ad36683d-551b-4e6e-b079-c82acde77796",
   "metadata": {},
   "source": [
    "## Búsqueda de Escuela Profesional"
   ]
  },
  {
   "cell_type": "code",
   "execution_count": 102,
   "id": "a8c62a92-463f-406f-b4ae-ea1b324976d9",
   "metadata": {},
   "outputs": [],
   "source": [
    "def buscar_escuela(codigo):\n",
    "    \"\"\"\n",
    "    Busca la información de una escuela profesional basada en el código ingresado.\n",
    "\n",
    "    Esta función recorre una lista de diccionarios llamada `Escuelas_Profesionales` para buscar\n",
    "    el diccionario que contiene un código de escuela específico. Si el código se encuentra, \n",
    "    se obtiene la URL y el nombre de la escuela, se reemplazan los espacios en blanco en el nombre\n",
    "    por guiones bajos, y se procede a extraer la información de la URL. Finalmente, cierra el driver.\n",
    "\n",
    "    Args:\n",
    "        codigo (str): El código de la escuela profesional que se desea buscar.\n",
    "\n",
    "    Variables locales:\n",
    "        url_escuela (str or None): La URL de la escuela profesional si el código es encontrado.\n",
    "        nombre_escuela (str or None): El nombre de la escuela profesional con los espacios\n",
    "                                      reemplazados por guiones bajos si el código es encontrado.\n",
    "\n",
    "    Funciones llamadas:\n",
    "        extraccion_data(url_escuela): Función que extrae la información de la URL encontrada.\n",
    "        driver.quit(): Cierra el navegador después de la extracción de datos.\n",
    "\n",
    "    Prints:\n",
    "        Si el código es encontrado, imprime la URL de la escuela profesional.\n",
    "        Si el código no es encontrado, imprime un mensaje de error.\n",
    "\n",
    "    Example:\n",
    "        >>> buscar_escuela(\"001\")\n",
    "        La URL de la escuela profesional es: https://ejemplo.com/sistemas\n",
    "        (Se ejecuta la extracción de datos y se cierra el driver)\n",
    "    \"\"\"\n",
    "    url_escuela = None\n",
    "    nombre_escuela = None\n",
    "\n",
    "    for escuela_profesional in Escuelas_Profesionales:\n",
    "        if escuela_profesional[\"Codigo Ep\"] == codigo:\n",
    "            url_escuela = escuela_profesional['URL']\n",
    "            nombre_escuela = escuela_profesional['Escuela'].replace(\" \", \"_\")\n",
    "            break\n",
    "\n",
    "    if url_escuela:\n",
    "        print(f\"La URL de la escuela profesional es: {url_escuela}\")\n",
    "        print(f\"El nombre de la escuela profesional es: {nombre_escuela}\")\n",
    "        extraccion_data(url_escuela)\n",
    "        return nombre_escuela\n",
    "    else:\n",
    "        print(\"El código ingresado no existe.\")\n",
    "        return None"
   ]
  },
  {
   "cell_type": "code",
   "execution_count": 104,
   "id": "159e2667-8992-4ecb-a64f-e056791bb008",
   "metadata": {},
   "outputs": [],
   "source": [
    "driver = webdriver.Edge()"
   ]
  },
  {
   "cell_type": "code",
   "execution_count": 105,
   "id": "e8e43ade-deb9-43dd-b9ea-ec3ec5665b3a",
   "metadata": {},
   "outputs": [
    {
     "name": "stdin",
     "output_type": "stream",
     "text": [
      "Ingrese el código de Escuela:  091\n"
     ]
    },
    {
     "name": "stdout",
     "output_type": "stream",
     "text": [
      "La URL de la escuela profesional es: https://admision.unmsm.edu.pe/WebsiteSimulacro20251/1/091/0.html\n",
      "El nombre de la escuela profesional es: ADMINISTRACIÓN\n"
     ]
    }
   ],
   "source": [
    "codigo = input(\"Ingrese el código de Escuela: \")\n",
    "nombre_escuela = buscar_escuela(codigo)"
   ]
  },
  {
   "cell_type": "code",
   "execution_count": 106,
   "id": "665ef753-2316-470a-98de-b605ba20bbe3",
   "metadata": {},
   "outputs": [],
   "source": [
    "driver.quit()"
   ]
  },
  {
   "cell_type": "markdown",
   "id": "66679dff-c725-4a29-814a-1fca074171f8",
   "metadata": {},
   "source": [
    "## Guardar data y exportarlo en un archivo CSV"
   ]
  },
  {
   "cell_type": "code",
   "execution_count": 107,
   "id": "ff94ff09-cedd-437e-afb3-53836cb08fe9",
   "metadata": {},
   "outputs": [],
   "source": [
    "data_estudiantes = pd.DataFrame(data_estudiantes)\n",
    "data_estudiantes.to_csv(f'Escuela_{nombre_escuela}.csv', index=False)"
   ]
  }
 ],
 "metadata": {
  "kernelspec": {
   "display_name": "Python 3 (ipykernel)",
   "language": "python",
   "name": "python3"
  },
  "language_info": {
   "codemirror_mode": {
    "name": "ipython",
    "version": 3
   },
   "file_extension": ".py",
   "mimetype": "text/x-python",
   "name": "python",
   "nbconvert_exporter": "python",
   "pygments_lexer": "ipython3",
   "version": "3.11.9"
  }
 },
 "nbformat": 4,
 "nbformat_minor": 5
}
